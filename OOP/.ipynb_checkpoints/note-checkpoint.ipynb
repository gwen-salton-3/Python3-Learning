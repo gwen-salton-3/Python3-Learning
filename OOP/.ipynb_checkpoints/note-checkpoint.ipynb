{
 "cells": [
  {
   "cell_type": "markdown",
   "id": "26c5a05a-f1b6-480a-9708-55eb689bcf7b",
   "metadata": {},
   "source": [
    "The classic class written in python.\n",
    "> The purpose of oop is for writing clean code."
   ]
  },
  {
   "cell_type": "code",
   "execution_count": 1,
   "id": "47c066be-a8b8-46d7-b96c-5ee9e902c2fd",
   "metadata": {},
   "outputs": [],
   "source": [
    "class MyClass():\n",
    "    class_attribute = \"value\"\n",
    "    def __init__(self, param1, param2):\n",
    "        self.param1 = param1\n",
    "        self.param2 = param2\n",
    "\n",
    "    def method(self):\n",
    "        pass\n",
    "\n",
    "    @classmethod\n",
    "    def cls_method(cls, param1, param2):\n",
    "        pass\n",
    "\n",
    "    @staticmethod\n",
    "    def stc_method(param1, param2):\n",
    "        return f\"{param1}, {param2}\""
   ]
  },
  {
   "cell_type": "markdown",
   "id": "7c262b6c-4b47-41e4-985a-5c196710cfd2",
   "metadata": {},
   "source": [
    "How to use this class, the static method is okay to be called without contructing the class, however class method is allowed related with the class."
   ]
  },
  {
   "cell_type": "code",
   "execution_count": 2,
   "id": "d343465f-dd5f-4d5d-8a31-0dbb1515708f",
   "metadata": {},
   "outputs": [
    {
     "data": {
      "text/plain": [
       "'1, 2'"
      ]
     },
     "execution_count": 2,
     "metadata": {},
     "output_type": "execute_result"
    }
   ],
   "source": [
    "my_class = MyClass(1, 2)\n",
    "my_class.stc_method(1, 2) "
   ]
  },
  {
   "cell_type": "markdown",
   "id": "9d45288c-a6b8-41cc-b77a-aaf30a1a0113",
   "metadata": {},
   "source": [
    "**Example**"
   ]
  },
  {
   "cell_type": "code",
   "execution_count": 3,
   "id": "0dd2a1bb-4ed4-487f-bdfa-e062323d7217",
   "metadata": {},
   "outputs": [],
   "source": [
    "class PlayerCharacter:\n",
    "    def __init__(self, name, age):\n",
    "        self.name = name\n",
    "        self.age = age\n",
    "\n",
    "    def speak(self):\n",
    "        return f\"My name is {self.name}, and I am {self.age} year(s) old\""
   ]
  },
  {
   "cell_type": "markdown",
   "id": "06ec19bf-4027-4293-bf48-ea342985b9ae",
   "metadata": {},
   "source": [
    "It is better to declear what parameters you are assigning.<br /> For example, the first one is name, and the next is age."
   ]
  },
  {
   "cell_type": "code",
   "execution_count": 4,
   "id": "a6afc2b6-ba10-4355-b6cf-c1168b095791",
   "metadata": {},
   "outputs": [
    {
     "data": {
      "text/plain": [
       "'My name is Chris, and I am 12 year(s) old'"
      ]
     },
     "execution_count": 4,
     "metadata": {},
     "output_type": "execute_result"
    }
   ],
   "source": [
    "player1 = PlayerCharacter(name=\"Chris\", age=12)\n",
    "player1.speak()"
   ]
  },
  {
   "cell_type": "markdown",
   "id": "f9350dfe-efe4-4297-9ef0-b28d485327a8",
   "metadata": {},
   "source": [
    "In python, it is okay to modify the varaible by directly access it. Therefore, if any variable is coded in immutable from outside, use `self._var` to declare this as private."
   ]
  },
  {
   "cell_type": "code",
   "execution_count": 5,
   "id": "6687f541-082a-44d3-891a-11d5bd04ad9f",
   "metadata": {},
   "outputs": [
    {
     "data": {
      "text/plain": [
       "'My name is David, and I am 12 year(s) old'"
      ]
     },
     "execution_count": 5,
     "metadata": {},
     "output_type": "execute_result"
    }
   ],
   "source": [
    "player1.name = \"David\"\n",
    "player1.speak()"
   ]
  },
  {
   "cell_type": "code",
   "execution_count": 6,
   "id": "67c14c3d-073e-44fd-bedb-447d26699197",
   "metadata": {},
   "outputs": [],
   "source": [
    "class Car:\n",
    "    def __init__(self, driver):\n",
    "        self.driver = driver\n",
    "        self._engine = \"V8\"\n",
    "\n",
    "    def getEngineType(self):\n",
    "        return self._engine"
   ]
  },
  {
   "cell_type": "code",
   "execution_count": 7,
   "id": "4a6fc48e-3fd1-403d-b4ad-e9d37d02d640",
   "metadata": {},
   "outputs": [
    {
     "data": {
      "text/plain": [
       "'V8'"
      ]
     },
     "execution_count": 7,
     "metadata": {},
     "output_type": "execute_result"
    }
   ],
   "source": [
    "myCar = Car(driver=\"Chris\")\n",
    "myCar.getEngineType()"
   ]
  },
  {
   "cell_type": "markdown",
   "id": "daaea174-16be-45f1-96a9-5fb2e8d5daac",
   "metadata": {},
   "source": [
    "### Inheritance"
   ]
  },
  {
   "cell_type": "code",
   "execution_count": 17,
   "id": "80808138-2f0a-4339-b08f-9154821014f2",
   "metadata": {},
   "outputs": [],
   "source": [
    "class User:\n",
    "    def __init__(self, email, username):\n",
    "        self.email = email\n",
    "        self.username = username\n",
    "        \n",
    "    def login(self):\n",
    "        return \"login\""
   ]
  },
  {
   "cell_type": "code",
   "execution_count": 9,
   "id": "62502817-b016-43f7-988a-84ea877b9c30",
   "metadata": {},
   "outputs": [
    {
     "data": {
      "text/plain": [
       "'login'"
      ]
     },
     "execution_count": 9,
     "metadata": {},
     "output_type": "execute_result"
    }
   ],
   "source": [
    "user1 = User()\n",
    "user1.login()"
   ]
  },
  {
   "cell_type": "markdown",
   "id": "09ba5fc0-bb53-4392-acf5-b4613690edd8",
   "metadata": {},
   "source": [
    "**Sub-class** of users, which inherence the init function as well."
   ]
  },
  {
   "cell_type": "code",
   "execution_count": 18,
   "id": "aa641f7c-843e-4044-9ccb-9a00f2a23f08",
   "metadata": {},
   "outputs": [],
   "source": [
    "class Wizard(User):\n",
    "    def __init__(self, email, username, power):\n",
    "        super().__init__(email, username)\n",
    "        self.power = power\n",
    "\n",
    "    def attack(self):\n",
    "        return f\"attacking with power of {self.power}\"\n",
    "\n",
    "class Archer():\n",
    "    pass"
   ]
  },
  {
   "cell_type": "code",
   "execution_count": 21,
   "id": "0fe925e3-d199-4616-9f1f-fec8e8670b35",
   "metadata": {},
   "outputs": [
    {
     "name": "stdout",
     "output_type": "stream",
     "text": [
      "login\n",
      "attacking with power of fire\n"
     ]
    }
   ],
   "source": [
    "wizard1 = Wizard(email=\"Chris@gmail.com\", username=\"Chris\", power=\"fire\")\n",
    "print(wizard1.login())\n",
    "print(wizard1.attack())"
   ]
  },
  {
   "cell_type": "markdown",
   "id": "a055b12f-be3a-4a95-91c3-3397d16eb955",
   "metadata": {},
   "source": [
    "class type checking with `isinstance`"
   ]
  },
  {
   "cell_type": "code",
   "execution_count": 12,
   "id": "dfee380b-6062-47d5-a94c-f710a5500a50",
   "metadata": {},
   "outputs": [
    {
     "data": {
      "text/plain": [
       "True"
      ]
     },
     "execution_count": 12,
     "metadata": {},
     "output_type": "execute_result"
    }
   ],
   "source": [
    "isinstance(wizard1, Wizard)"
   ]
  },
  {
   "cell_type": "markdown",
   "id": "62a76da8-9152-46ac-9979-ce6e9f6d7bce",
   "metadata": {},
   "source": [
    "`dir()` is for telling us all the method related to the class. <br />It is better to pay attension on all the special method in the object, and figure how to play with them. <br /> Such as `__str__`, `__len__`"
   ]
  },
  {
   "cell_type": "code",
   "execution_count": 22,
   "id": "01a28286-8ef6-439e-aa09-715aecb60c76",
   "metadata": {},
   "outputs": [
    {
     "data": {
      "text/plain": [
       "['__class__',\n",
       " '__delattr__',\n",
       " '__dict__',\n",
       " '__dir__',\n",
       " '__doc__',\n",
       " '__eq__',\n",
       " '__format__',\n",
       " '__ge__',\n",
       " '__getattribute__',\n",
       " '__gt__',\n",
       " '__hash__',\n",
       " '__init__',\n",
       " '__init_subclass__',\n",
       " '__le__',\n",
       " '__lt__',\n",
       " '__module__',\n",
       " '__ne__',\n",
       " '__new__',\n",
       " '__reduce__',\n",
       " '__reduce_ex__',\n",
       " '__repr__',\n",
       " '__setattr__',\n",
       " '__sizeof__',\n",
       " '__str__',\n",
       " '__subclasshook__',\n",
       " '__weakref__',\n",
       " 'attack',\n",
       " 'email',\n",
       " 'login',\n",
       " 'power',\n",
       " 'username']"
      ]
     },
     "execution_count": 22,
     "metadata": {},
     "output_type": "execute_result"
    }
   ],
   "source": [
    "dir(wizard1)"
   ]
  }
 ],
 "metadata": {
  "kernelspec": {
   "display_name": "Python 3 (ipykernel)",
   "language": "python",
   "name": "python3"
  },
  "language_info": {
   "codemirror_mode": {
    "name": "ipython",
    "version": 3
   },
   "file_extension": ".py",
   "mimetype": "text/x-python",
   "name": "python",
   "nbconvert_exporter": "python",
   "pygments_lexer": "ipython3",
   "version": "3.10.12"
  }
 },
 "nbformat": 4,
 "nbformat_minor": 5
}
